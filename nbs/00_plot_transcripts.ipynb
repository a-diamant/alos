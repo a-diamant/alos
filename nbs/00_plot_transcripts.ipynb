{
 "cells": [
  {
   "cell_type": "markdown",
   "metadata": {},
   "source": [
    "# Plot transcripts\n",
    "\n",
    "\n",
    "> The module provides functionality to visualise known transcripts from Ensemble database and new transcripts (the coordinates of exons should be directly provided by a user). Multiple transcripts can be plotted on one panel."
   ]
  },
  {
   "cell_type": "markdown",
   "metadata": {},
   "source": []
  },
  {
   "cell_type": "code",
   "execution_count": null,
   "metadata": {},
   "outputs": [],
   "source": [
    "#| default_exp plot_transcripts"
   ]
  },
  {
   "cell_type": "code",
   "execution_count": 1,
   "metadata": {},
   "outputs": [],
   "source": [
    "#|hide\n",
    "#|export\n",
    "import matplotlib.pyplot as plt\n",
    "import matplotlib.lines as lines\n",
    "import numpy as np\n",
    "import requests, sys\n"
   ]
  },
  {
   "cell_type": "markdown",
   "metadata": {},
   "source": [
    "function that takes as input an id of transcipt and returs exon coordinates retrieved from ensemble rest API:"
   ]
  },
  {
   "cell_type": "code",
   "execution_count": 6,
   "metadata": {},
   "outputs": [],
   "source": [
    "#| export\n",
    "def get_coord_from_tscrpt_id(transcipt_id):\n",
    "# get exon coordinates from ensemble API by transcript id:\n",
    "    server = \"https://rest.ensembl.org\"\n",
    "    ext = \"/lookup/id/\" + transcipt_id + \"?expand=1\"\n",
    " \n",
    "    r = requests.get(server+ext, headers={ \"Content-Type\" : \"application/json\"})\n",
    " \n",
    "    if not r.ok:\n",
    "        r.raise_for_status()\n",
    "        sys.exit()\n",
    " \n",
    "    decoded = r.json()\n",
    "# dictionary items to a dataframe:\n",
    "    exon_list = list(decoded['Exon'])\n",
    "    exon_coord = []\n",
    "    for i, e in enumerate(exon_list):\n",
    "        coord = [e.get('end'), e.get('start')]\n",
    "        exon_coord.append(coord)\n",
    "    strand = decoded['strand']\n",
    "    return(exon_coord, strand)"
   ]
  },
  {
   "cell_type": "code",
   "execution_count": 7,
   "metadata": {},
   "outputs": [
    {
     "data": {
      "text/plain": [
       "([[134195740, 134195631],\n",
       "  [134197486, 134197414],\n",
       "  [134198150, 134197978],\n",
       "  [134200306, 134200115],\n",
       "  [134201154, 134200643]],\n",
       " 1)"
      ]
     },
     "execution_count": 7,
     "metadata": {},
     "output_type": "execute_result"
    }
   ],
   "source": [
    "get_coord_from_tscrpt_id(\"ENSMUST00000030636\")"
   ]
  },
  {
   "cell_type": "markdown",
   "metadata": {},
   "source": [
    "An exemple of a custome list of exons coming from some unknown isoform:"
   ]
  },
  {
   "cell_type": "code",
   "execution_count": 4,
   "metadata": {},
   "outputs": [],
   "source": [
    "#exons_list = [[3000, 4500], [6700, 12000], [15000, 17000], [25000, 35000], [36000, 38000]]\n",
    "exons_list = [[300000000, 450000000], [670000000, 1200000000], [1500000000, 1700000000], [2500000000, 3500000000], [3600000000, 3800000000]]"
   ]
  },
  {
   "cell_type": "markdown",
   "metadata": {},
   "source": [
    "draw_transcript function takes as arguments a list of exons with their coordinates and transcript direction. The known isoforms can be plotted from coordinateds retrieved with get_coord_from_tscrpt_id function"
   ]
  },
  {
   "cell_type": "code",
   "execution_count": 8,
   "metadata": {},
   "outputs": [],
   "source": [
    "#| export\n",
    "def draw_transcript(exons, direction, color, offset=0, no_render=False):\n",
    "    if not no_render:\n",
    "        plt.axes()\n",
    "        plt.xlim((-0.1, 1))\n",
    "        plt.ylim((-0.3, 0.3))\n",
    "        plt.margins(0.2)\n",
    "        plt.axis('off')\n",
    "        fig = plt.gcf()\n",
    "        fig.set_size_inches(20, 2)\n",
    "    height = 0.2\n",
    "    plt.plot([offset + 0.1, offset + 0.1], linestyle='solid', linewidth=0.5, c='grey')\n",
    "    j = 0\n",
    "    k = 1\n",
    "    if direction == 1:\n",
    "        pos_start = exons[0][1]\n",
    "        pos_end = exons[-1][0]\n",
    "    else: #direction == -1\n",
    "        pos_start = exons[-1][0]\n",
    "        pos_end = exons[0][1]\n",
    "        j = 1\n",
    "        k = 0\n",
    "    total_length = pos_end - pos_start\n",
    "    total_length_with_margin = 1.05 * total_length\n",
    "    pos_start_with_margin = pos_start - 0.025*total_length\n",
    "    for i, exon in enumerate(exons):\n",
    "        rectangle = plt.Rectangle(((exon[j] - pos_start_with_margin)/total_length_with_margin,offset), (exon[k] - exon[j])/total_length_with_margin, height, fc=color,ec=\"black\")\n",
    "        plt.gca().add_patch(rectangle)\n",
    "    if i > 0:\n",
    "        arrow = None\n",
    "        if direction < 0:\n",
    "            arrow = plt.arrow(1, offset - height/4, -1, 0, width=0.0015, head_length=0.01, head_width=0.1, length_includes_head=True, overhang=1)\n",
    "        else:\n",
    "            arrow = plt.arrow(0, offset - height/4, 1, 0, width=0.0015, head_length=0.01, head_width=0.1, length_includes_head=True, overhang=1)\n",
    "        plt.gca().add_patch(arrow)\n",
    "    plt.plot(np.array([0.025, 0.025]), np.array([offset - height/4 - 0.03, offset - height/4 + 0.03]), color='black')\n",
    "    plt.plot(np.array([1 - 0.025, 1 - 0.025]), np.array([offset - height/4 - 0.03, offset - height/4 + 0.03]), color='black')\n",
    "    plt.text(0.025, offset - height/4 - 0.075, pos_start, horizontalalignment='center', verticalalignment='center', fontsize=9)\n",
    "    plt.text(1 - 0.025, offset - height/4 - 0.075, pos_end, horizontalalignment='center', verticalalignment='center', fontsize=9)\n",
    "    if not no_render:\n",
    "        plt.show()\n"
   ]
  },
  {
   "cell_type": "markdown",
   "metadata": {},
   "source": [
    "test for one transcript:"
   ]
  },
  {
   "cell_type": "code",
   "execution_count": 19,
   "metadata": {},
   "outputs": [
    {
     "data": {
      "image/png": "[encoded data removed]",
      "text/plain": [
       "<Figure size 2000x200 with 1 Axes>"
      ]
     },
     "metadata": {},
     "output_type": "display_data"
    }
   ],
   "source": [
    "draw_transcript(get_coord_from_tscrpt_id(\"ENSMUST00000030636\"), 1, color=\"lightblue\")"
   ]
  },
  {
   "cell_type": "markdown",
   "metadata": {},
   "source": [
    "Draw multiple transcripts onto one panel:"
   ]
  },
  {
   "cell_type": "code",
   "execution_count": 13,
   "metadata": {},
   "outputs": [],
   "source": [
    "#| export\n",
    "def get_coord_from_tscrpt_id(transcript_id):\n",
    "    if '.' in transcript_id:\n",
    "        transcript_id = transcript_id.split('.')[0]\n",
    "    server = \"https://rest.ensembl.org\"\n",
    "    ext = \"/lookup/id/\" + transcript_id + \"?expand=1\"\n",
    "\n",
    "    r = requests.get(server+ext, headers={ \"Content-Type\" : \"application/json\"})\n",
    "\n",
    "    if not r.ok:\n",
    "        r.raise_for_status()\n",
    "        sys.exit()\n",
    "\n",
    "    decoded = r.json()\n",
    "    exon_list = list(decoded['Exon'])\n",
    "    exon_coord = []\n",
    "    for i, e in enumerate(exon_list):\n",
    "        coord = [e.get('end'), e.get('start')]\n",
    "        exon_coord.append(coord)\n",
    "    strand = decoded['strand']\n",
    "    return(exon_coord, strand)\n",
    "\n",
    "\n",
    "def draw_exons(exons, direction, color, transcript_name, offset=0, start_override=None, end_override=None, no_render=False):\n",
    "    if not no_render:\n",
    "        plt.axes()\n",
    "        plt.xlim((-0.1, 1))\n",
    "        plt.ylim((-0.3, 0.3))\n",
    "        plt.margins(0.2)\n",
    "        plt.axis('off')\n",
    "        fig = plt.gcf()\n",
    "        fig.set_size_inches(20, 2)\n",
    "    height = 0.2\n",
    "    plt.plot([offset + 0.1, offset + 0.1], linestyle='solid', linewidth=0.5, c='grey')\n",
    "    j = 0\n",
    "    k = 1\n",
    "    if direction == 1:\n",
    "        pos_start = exons[0][1]\n",
    "        pos_end = exons[-1][0]\n",
    "    else: #direction == -1\n",
    "        pos_start = exons[-1][1]\n",
    "        pos_end = exons[0][0]\n",
    "        j = 1\n",
    "        k = 0\n",
    "    real_start = pos_start\n",
    "    real_end = pos_end\n",
    "    if start_override is not None and end_override is not None:\n",
    "        pos_start = start_override\n",
    "        pos_end = end_override\n",
    "    total_length = pos_end - pos_start\n",
    "    total_length_with_margin = 1.05 * total_length\n",
    "    pos_start_with_margin = pos_start - 0.025*total_length\n",
    "    for i, exon in enumerate(exons):\n",
    "        rectangle = plt.Rectangle(((exon[j] - pos_start_with_margin)/total_length_with_margin,offset), (exon[k] - exon[j])/total_length_with_margin, height, fc=color,ec=\"black\")\n",
    "        plt.gca().add_patch(rectangle)\n",
    "    if i > 0:\n",
    "        arrow = None\n",
    "        if direction < 0:\n",
    "            arrow = plt.arrow(1, offset - height/4, -1, 0, width=0.0015, head_length=0.01, head_width=0.1, length_includes_head=True, overhang=1)\n",
    "        else:\n",
    "            arrow = plt.arrow(0, offset - height/4, 1, 0, width=0.0015, head_length=0.01, head_width=0.1, length_includes_head=True, overhang=1)\n",
    "        plt.gca().add_patch(arrow)\n",
    "    plt.plot(np.array([0.025 + (real_start - pos_start) / (total_length)/1.05, 0.025 + (real_start - pos_start) / (total_length)/1.05]), np.array([offset - height/4 - 0.03, offset - height/4 + 0.03]), color='black')\n",
    "    plt.plot(np.array([1 - 0.025 - (pos_end - real_end) / (total_length)/1.05, 1 - 0.025 - (pos_end - real_end) / (total_length)/1.05]), np.array([offset - height/4 - 0.03, offset - height/4 + 0.03]), color='black')\n",
    "    plt.text(0.025 + (real_start - pos_start) / (total_length)/1.05, offset - height/4 - 0.075, real_start, horizontalalignment='center', verticalalignment='center', fontsize=9)\n",
    "    plt.text(1 - 0.025 - (pos_end - real_end) / (total_length)/1.05, offset - height/4 - 0.075, real_end, horizontalalignment='center', verticalalignment='center', fontsize=9)\n",
    "    plt.text(1, offset - height, transcript_name, horizontalalignment='right', verticalalignment='top', fontsize=12)\n",
    "    if not no_render:\n",
    "        plt.show()\n",
    "\n",
    "\n",
    "def draw_transcripts_list(transcripts_list, colors=None):\n",
    "    exons = []\n",
    "    directions = []\n",
    "    for tr in transcripts_list:\n",
    "        t, d = get_coord_from_tscrpt_id(tr)\n",
    "        exons += [t]\n",
    "        directions += [d]\n",
    "    if colors is None:\n",
    "        colors = []\n",
    "        for i in range(len(exons)):\n",
    "            colors.append(['lightblue', 'lightgreen', 'orange', 'yellow', 'brown'][i % 5])\n",
    "    def get_limits(ex, dir):\n",
    "        start = sys.maxsize\n",
    "        end = -sys.maxsize\n",
    "        for (e, d) in zip(ex, dir):\n",
    "            if d == 1:\n",
    "                start = min(start,e[0][1])\n",
    "                end = max(end, e[-1][0])\n",
    "            else:\n",
    "                start = min(start,e[-1][1])\n",
    "                end = max(end, e[0][0])\n",
    "        return (start, end)\n",
    "    plt.axes()\n",
    "    plt.xlim((-0.1, 1.1))\n",
    "    plt.ylim((0.1 - 0.5 *  len(exons), 0.3))\n",
    "    plt.margins(0.2)\n",
    "    plt.axis('off')\n",
    "    fig = plt.gcf()\n",
    "    fig.set_size_inches(20, len(exons) * 2)\n",
    "    i = 0\n",
    "    (start, end) = get_limits(exons, directions)\n",
    "    for (ex, di, co, name) in zip(exons, directions, colors, transcripts_list):\n",
    "        draw_exons(ex, di, co, name, offset= -0.5 * i, start_override=start, end_override=end, no_render=True)\n",
    "        i+=1\n",
    "    plt.show()"
   ]
  },
  {
   "cell_type": "markdown",
   "metadata": {},
   "source": [
    "Test for multiple transcripts:"
   ]
  },
  {
   "cell_type": "code",
   "execution_count": 14,
   "metadata": {},
   "outputs": [
    {
     "data": {
      "image/png": "[encoded data removed]",
      "text/plain": [
       "<Figure size 2000x1000 with 1 Axes>"
      ]
     },
     "metadata": {},
     "output_type": "display_data"
    }
   ],
   "source": [
    "draw_transcripts_list([\"ENSMUST00000030636\", \"ENSMUST00000105867\", \"ENSMUST00000105868\", \"ENSMUST00000130253\", \"ENSMUST00000127279\"])"
   ]
  },
  {
   "cell_type": "code",
   "execution_count": null,
   "metadata": {},
   "outputs": [],
   "source": []
  },
  {
   "cell_type": "code",
   "execution_count": null,
   "metadata": {},
   "outputs": [],
   "source": [
    "#| hide \n",
    "from nbdev.showdoc import *"
   ]
  },
  {
   "cell_type": "code",
   "execution_count": null,
   "metadata": {},
   "outputs": [],
   "source": [
    "#| export\n",
    "def foo(): pass"
   ]
  },
  {
   "cell_type": "code",
   "execution_count": null,
   "metadata": {},
   "outputs": [],
   "source": [
    "#| hide\n",
    "import nbdev; nbdev.nbdev_export()"
   ]
  }
 ],
 "metadata": {
  "kernelspec": {
   "display_name": "python3",
   "language": "python",
   "name": "python3"
  },
  "language_info": {
   "codemirror_mode": {
    "name": "ipython",
    "version": 3
   },
   "file_extension": ".py",
   "mimetype": "text/x-python",
   "name": "python",
   "nbconvert_exporter": "python",
   "pygments_lexer": "ipython3",
   "version": "3.9.17"
  }
 },
 "nbformat": 4,
 "nbformat_minor": 4
}
