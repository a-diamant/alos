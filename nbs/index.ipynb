{
 "cells": [
  {
   "cell_type": "code",
   "execution_count": null,
   "metadata": {},
   "outputs": [],
   "source": [
    "#| hide\n",
    "from alos.core import *"
   ]
  },
  {
   "cell_type": "markdown",
   "metadata": {},
   "source": [
    "# alos\n",
    "\n",
    "> Storage and visualization of long read based single cell datasets"
   ]
  },
  {
   "cell_type": "markdown",
   "metadata": {},
   "source": [
    "## Install"
   ]
  },
  {
   "cell_type": "markdown",
   "metadata": {},
   "source": [
    "```sh\n",
    "pip install alos\n",
    "```"
   ]
  },
  {
   "cell_type": "markdown",
   "metadata": {},
   "source": [
    "## How to use"
   ]
  },
  {
   "cell_type": "markdown",
   "metadata": {},
   "source": [
    "### Plot transcript module"
   ]
  },
  {
   "cell_type": "markdown",
   "metadata": {},
   "source": [
    "Transcript's structure can be visualized with draw_transcript function from your own list of exons or directly by indicating a valid Ensemble id. \n",
    "get_coord_from_tscrpt_id function takes a transcript's Ensemble id as an input and returns coordinates of exons and strand.\n",
    "\n",
    " ![transcript_schema](../pngs/transcpipt_expl.png)\n"
   ]
  },
  {
   "cell_type": "markdown",
   "metadata": {},
   "source": [
    "```python\n",
    "\n",
    "```"
   ]
  },
  {
   "cell_type": "markdown",
   "metadata": {},
   "source": [
    "Multiple transcripts can be vizualized on one panel with the function draw_transcripts_list\n",
    "![transcripts_panel](../pngs/transcript_panel.png)"
   ]
  },
  {
   "cell_type": "markdown",
   "metadata": {},
   "source": [
    "### Gene report module"
   ]
  },
  {
   "cell_type": "markdown",
   "metadata": {},
   "source": [
    "plot_isoforms_summary is a nice way to build a basic summary of your data. It summs up information on how many genes are expressed per cell type, how many transcripts contains your dataset in general and reports on how many genes are expressed by multiple isoforms.\n",
    "\n",
    "![isoforms_summary](../pngs/summary_report.png)\n"
   ]
  },
  {
   "cell_type": "markdown",
   "metadata": {},
   "source": [
    "Class mdata_m inherits muon data class and therefore has all the operations available with muon data class. It has the following methods:\n",
    "- filter_mdata: filters out the genes that are expressed by one isoform only\n",
    "- iso_percent: percentage by which an isoform is expressed in gene's counts\n",
    "- plot_isoforms_summary\n",
    "- plot_genes_cell_type\n",
    "- plot_isoforms_frequencies\n",
    "- plot_switch_gen_bar\n",
    "- draw_transcripts_list"
   ]
  },
  {
   "cell_type": "markdown",
   "metadata": {},
   "source": [
    "```python\n",
    "mdata_test.plot_transcripts_per_cell_type('Cdk2ap1')\n",
    "```\n",
    "\n",
    "![transcripts_cell_type](../pngs/transcprits_cell_type.png)"
   ]
  },
  {
   "cell_type": "markdown",
   "metadata": {},
   "source": [
    "```python\n",
    "mdata_test.trsct_counts_cell_type('Cdk2ap1')\n",
    "```\n",
    "![trscr_expr_cell_type](../pngs/transcript_expr_cell_type.png)"
   ]
  },
  {
   "cell_type": "markdown",
   "metadata": {},
   "source": [
    "```python\n",
    "mdata_test.draw_transcripts_list('Pacsin1')\n",
    "```\n",
    "![trascrpt_panel](../pngs/trscr_panel.png)"
   ]
  }
 ],
 "metadata": {
  "kernelspec": {
   "display_name": "python3",
   "language": "python",
   "name": "python3"
  }
 },
 "nbformat": 4,
 "nbformat_minor": 4
}
